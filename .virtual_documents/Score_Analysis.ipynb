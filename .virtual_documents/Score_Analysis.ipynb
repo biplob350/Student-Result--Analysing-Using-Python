import numpy as np
import pandas as pd
import matplotlib.pyplot as plt
import seaborn as sns



df = pd.read_csv("Expanded_data_with_more_features.csv.zip")


print(df.head())



df.describe() 


 df.info()


 df.isnull().sum()


df = df.drop("Unnamed: 0", axis = 1)
print(df.head())


df.head()






#df["WklyStudyHours"]= df["WklyStudyHours"].str.replace("05-Oct","5-10")





plt.figure(figsize=(5,6))
ax = sns.countplot(data = df, x = "Gender")
ax.bar_label(ax.containers[0])
plt.show()





gb = df.groupby("ParentEduc").agg({"MathScore":"mean","ReadingScore":"mean","WritingScore":"mean"})
print(gb)


plt.figure(figsize= (4,4))
sns.heatmap(gb,annot = True)
plt.show()


# from the above chart we have conclude that the education of the parents have a god impact


gb1 = df.groupby("ParentMaritalStatus").agg({"MathScore":"mean","ReadingScore":"mean","WritingScore":"mean"})
print(gb1)





import numpy as np
import pandas as pd
import matplotlib.pyplot as plt
import seaborn as sns



df = pd.read_csv("Expanded_data_with_more_features.csv.zip")


print(df.head())



df.describe() 


 df.info()


 df.isnull().sum()


df = df.drop("Unnamed: 0", axis = 1)
print(df.head())


df.head()






#df["WklyStudyHours"]= df["WklyStudyHours"].str.replace("05-Oct","5-10")





plt.figure(figsize=(5,6))
ax = sns.countplot(data = df, x = "Gender")
ax.bar_label(ax.containers[0])
plt.title("GENDER DISTRIBUTION ")
plt.show()





gb = df.groupby("ParentEduc").agg({"MathScore":"mean","ReadingScore":"mean","WritingScore":"mean"})
print(gb)


plt.figure(figsize=(4,5))
sns.heatmap(gb,annot = True)
plt.title("Relationshiop Between Parent's Education and students Score")
plt.show()


#From the above chart we have concluded that the education of the parents have good impact on their study


gb1 = df.groupby("ParentMaritalStatus").agg({"MathScore":"mean","ReadingScore":"mean","WritingScore":"mean"})
print(gb1)


plt.figure(figsize=(4,5))
sns.heatmap(gb1,annot = True)
plt.title("Relationshiop Between Parent's merital status and students Score")
plt.show()





#from the above chart we have concluded that there os no / neglegiable impact on the Student score
#due to theis parents status



df.head()


sns.boxplot(data = df,x = "MathScore")
plt.show()


sns.boxplot(data = df,x = "WritingScore")
plt.show()


sns.boxplot(data = df,x = "ReadingScore")
plt.show()


print(df["EthnicGroup"].unique())





groupA = df.loc[(df['EthnicGroup'] == "group A")].count()
groupB = df.loc[(df['EthnicGroup'] == "group B")].count()
groupC = df.loc[(df['EthnicGroup'] == "group C")].count()
groupD = df.loc[(df['EthnicGroup'] == "group D")].count()
groupE = df.loc[(df['EthnicGroup'] == "group E")].count()

l = ["group A","group B","group C","group D","group E",]
mylist = [groupA["EthnicGroup"],groupB["EthnicGroup"],groupC["EthnicGroup"],groupD["EthnicGroup"],groupE["EthnicGroup"],]
plt.pie(mylist,labels = l,autopct = "%1.2f%%" )

plt.title("Distribution of Ethnic Group")
plt.show()



ax = sns.countplot(data = df, x = 'EthnicGroup')
ax.bar_label(ax.containers[0])




