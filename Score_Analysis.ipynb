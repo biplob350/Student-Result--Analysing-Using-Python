{
 "cells": [
  {
   "cell_type": "code",
   "execution_count": 1,
   "id": "2c9b222a-a8b8-471b-8a63-5b3a55c356e6",
   "metadata": {},
   "outputs": [],
   "source": [
    "import numpy as np\n",
    "import pandas as pd\n",
    "import matplotlib.pyplot as plt\n",
    "import seaborn as sns\n"
   ]
  },
  {
   "cell_type": "code",
   "execution_count": 2,
   "id": "71240c19-9759-48a3-8821-ac2e78c2e60f",
   "metadata": {},
   "outputs": [],
   "source": [
    "df = pd.read_csv(\"Expanded_data_with_more_features.csv.zip\")"
   ]
  },
  {
   "cell_type": "code",
   "execution_count": 3,
   "id": "9d26c899-eb65-4b68-a0a3-99eac01ae845",
   "metadata": {},
   "outputs": [
    {
     "name": "stdout",
     "output_type": "stream",
     "text": [
      "   Unnamed: 0  Gender EthnicGroup          ParentEduc     LunchType TestPrep  \\\n",
      "0           0  female         NaN   bachelor's degree      standard     none   \n",
      "1           1  female     group C        some college      standard      NaN   \n",
      "2           2  female     group B     master's degree      standard     none   \n",
      "3           3    male     group A  associate's degree  free/reduced     none   \n",
      "4           4    male     group C        some college      standard     none   \n",
      "\n",
      "  ParentMaritalStatus PracticeSport IsFirstChild  NrSiblings TransportMeans  \\\n",
      "0             married     regularly          yes         3.0     school_bus   \n",
      "1             married     sometimes          yes         0.0            NaN   \n",
      "2              single     sometimes          yes         4.0     school_bus   \n",
      "3             married         never           no         1.0            NaN   \n",
      "4             married     sometimes          yes         0.0     school_bus   \n",
      "\n",
      "  WklyStudyHours  MathScore  ReadingScore  WritingScore  \n",
      "0            < 5         71            71            74  \n",
      "1         5 - 10         69            90            88  \n",
      "2            < 5         87            93            91  \n",
      "3         5 - 10         45            56            42  \n",
      "4         5 - 10         76            78            75  \n"
     ]
    }
   ],
   "source": [
    "print(df.head())\n"
   ]
  },
  {
   "cell_type": "code",
   "execution_count": 4,
   "id": "a0d71d44-a07d-4df7-9b18-6ec819ff5f08",
   "metadata": {},
   "outputs": [
    {
     "data": {
      "text/html": [
       "<div>\n",
       "<style scoped>\n",
       "    .dataframe tbody tr th:only-of-type {\n",
       "        vertical-align: middle;\n",
       "    }\n",
       "\n",
       "    .dataframe tbody tr th {\n",
       "        vertical-align: top;\n",
       "    }\n",
       "\n",
       "    .dataframe thead th {\n",
       "        text-align: right;\n",
       "    }\n",
       "</style>\n",
       "<table border=\"1\" class=\"dataframe\">\n",
       "  <thead>\n",
       "    <tr style=\"text-align: right;\">\n",
       "      <th></th>\n",
       "      <th>Unnamed: 0</th>\n",
       "      <th>NrSiblings</th>\n",
       "      <th>MathScore</th>\n",
       "      <th>ReadingScore</th>\n",
       "      <th>WritingScore</th>\n",
       "    </tr>\n",
       "  </thead>\n",
       "  <tbody>\n",
       "    <tr>\n",
       "      <th>count</th>\n",
       "      <td>30641.000000</td>\n",
       "      <td>29069.000000</td>\n",
       "      <td>30641.000000</td>\n",
       "      <td>30641.000000</td>\n",
       "      <td>30641.000000</td>\n",
       "    </tr>\n",
       "    <tr>\n",
       "      <th>mean</th>\n",
       "      <td>499.556607</td>\n",
       "      <td>2.145894</td>\n",
       "      <td>66.558402</td>\n",
       "      <td>69.377533</td>\n",
       "      <td>68.418622</td>\n",
       "    </tr>\n",
       "    <tr>\n",
       "      <th>std</th>\n",
       "      <td>288.747894</td>\n",
       "      <td>1.458242</td>\n",
       "      <td>15.361616</td>\n",
       "      <td>14.758952</td>\n",
       "      <td>15.443525</td>\n",
       "    </tr>\n",
       "    <tr>\n",
       "      <th>min</th>\n",
       "      <td>0.000000</td>\n",
       "      <td>0.000000</td>\n",
       "      <td>0.000000</td>\n",
       "      <td>10.000000</td>\n",
       "      <td>4.000000</td>\n",
       "    </tr>\n",
       "    <tr>\n",
       "      <th>25%</th>\n",
       "      <td>249.000000</td>\n",
       "      <td>1.000000</td>\n",
       "      <td>56.000000</td>\n",
       "      <td>59.000000</td>\n",
       "      <td>58.000000</td>\n",
       "    </tr>\n",
       "    <tr>\n",
       "      <th>50%</th>\n",
       "      <td>500.000000</td>\n",
       "      <td>2.000000</td>\n",
       "      <td>67.000000</td>\n",
       "      <td>70.000000</td>\n",
       "      <td>69.000000</td>\n",
       "    </tr>\n",
       "    <tr>\n",
       "      <th>75%</th>\n",
       "      <td>750.000000</td>\n",
       "      <td>3.000000</td>\n",
       "      <td>78.000000</td>\n",
       "      <td>80.000000</td>\n",
       "      <td>79.000000</td>\n",
       "    </tr>\n",
       "    <tr>\n",
       "      <th>max</th>\n",
       "      <td>999.000000</td>\n",
       "      <td>7.000000</td>\n",
       "      <td>100.000000</td>\n",
       "      <td>100.000000</td>\n",
       "      <td>100.000000</td>\n",
       "    </tr>\n",
       "  </tbody>\n",
       "</table>\n",
       "</div>"
      ],
      "text/plain": [
       "         Unnamed: 0    NrSiblings     MathScore  ReadingScore  WritingScore\n",
       "count  30641.000000  29069.000000  30641.000000  30641.000000  30641.000000\n",
       "mean     499.556607      2.145894     66.558402     69.377533     68.418622\n",
       "std      288.747894      1.458242     15.361616     14.758952     15.443525\n",
       "min        0.000000      0.000000      0.000000     10.000000      4.000000\n",
       "25%      249.000000      1.000000     56.000000     59.000000     58.000000\n",
       "50%      500.000000      2.000000     67.000000     70.000000     69.000000\n",
       "75%      750.000000      3.000000     78.000000     80.000000     79.000000\n",
       "max      999.000000      7.000000    100.000000    100.000000    100.000000"
      ]
     },
     "execution_count": 4,
     "metadata": {},
     "output_type": "execute_result"
    }
   ],
   "source": [
    "df.describe() "
   ]
  },
  {
   "cell_type": "code",
   "execution_count": 5,
   "id": "68b72f85-ccdc-43d2-a0ad-bc6aa616271e",
   "metadata": {},
   "outputs": [
    {
     "name": "stdout",
     "output_type": "stream",
     "text": [
      "<class 'pandas.core.frame.DataFrame'>\n",
      "RangeIndex: 30641 entries, 0 to 30640\n",
      "Data columns (total 15 columns):\n",
      " #   Column               Non-Null Count  Dtype  \n",
      "---  ------               --------------  -----  \n",
      " 0   Unnamed: 0           30641 non-null  int64  \n",
      " 1   Gender               30641 non-null  object \n",
      " 2   EthnicGroup          28801 non-null  object \n",
      " 3   ParentEduc           28796 non-null  object \n",
      " 4   LunchType            30641 non-null  object \n",
      " 5   TestPrep             28811 non-null  object \n",
      " 6   ParentMaritalStatus  29451 non-null  object \n",
      " 7   PracticeSport        30010 non-null  object \n",
      " 8   IsFirstChild         29737 non-null  object \n",
      " 9   NrSiblings           29069 non-null  float64\n",
      " 10  TransportMeans       27507 non-null  object \n",
      " 11  WklyStudyHours       29686 non-null  object \n",
      " 12  MathScore            30641 non-null  int64  \n",
      " 13  ReadingScore         30641 non-null  int64  \n",
      " 14  WritingScore         30641 non-null  int64  \n",
      "dtypes: float64(1), int64(4), object(10)\n",
      "memory usage: 3.5+ MB\n"
     ]
    }
   ],
   "source": [
    " df.info()"
   ]
  },
  {
   "cell_type": "code",
   "execution_count": 6,
   "id": "6fce0bf0-4e6d-4880-a140-5d1ca6321529",
   "metadata": {},
   "outputs": [
    {
     "data": {
      "text/plain": [
       "Unnamed: 0                0\n",
       "Gender                    0\n",
       "EthnicGroup            1840\n",
       "ParentEduc             1845\n",
       "LunchType                 0\n",
       "TestPrep               1830\n",
       "ParentMaritalStatus    1190\n",
       "PracticeSport           631\n",
       "IsFirstChild            904\n",
       "NrSiblings             1572\n",
       "TransportMeans         3134\n",
       "WklyStudyHours          955\n",
       "MathScore                 0\n",
       "ReadingScore              0\n",
       "WritingScore              0\n",
       "dtype: int64"
      ]
     },
     "execution_count": 6,
     "metadata": {},
     "output_type": "execute_result"
    }
   ],
   "source": [
    " df.isnull().sum()"
   ]
  },
  {
   "cell_type": "code",
   "execution_count": 13,
   "id": "f611914b-8751-4542-afdc-3f79d0dbf4d6",
   "metadata": {},
   "outputs": [
    {
     "name": "stdout",
     "output_type": "stream",
     "text": [
      "   Gender EthnicGroup          ParentEduc     LunchType TestPrep  \\\n",
      "0  female         NaN   bachelor's degree      standard     none   \n",
      "1  female     group C        some college      standard      NaN   \n",
      "2  female     group B     master's degree      standard     none   \n",
      "3    male     group A  associate's degree  free/reduced     none   \n",
      "4    male     group C        some college      standard     none   \n",
      "\n",
      "  ParentMaritalStatus PracticeSport IsFirstChild  NrSiblings TransportMeans  \\\n",
      "0             married     regularly          yes         3.0     school_bus   \n",
      "1             married     sometimes          yes         0.0            NaN   \n",
      "2              single     sometimes          yes         4.0     school_bus   \n",
      "3             married         never           no         1.0            NaN   \n",
      "4             married     sometimes          yes         0.0     school_bus   \n",
      "\n",
      "  WklyStudyHours  MathScore  ReadingScore  WritingScore  \n",
      "0            < 5         71            71            74  \n",
      "1         5 - 10         69            90            88  \n",
      "2            < 5         87            93            91  \n",
      "3         5 - 10         45            56            42  \n",
      "4         5 - 10         76            78            75  \n"
     ]
    }
   ],
   "source": [
    "df = df.drop(\"Unnamed: 0\", axis = 1)\n",
    "print(df.head())"
   ]
  },
  {
   "cell_type": "code",
   "execution_count": 14,
   "id": "54a2a2cc-66b0-4839-aeab-ae0d73e77c96",
   "metadata": {},
   "outputs": [
    {
     "data": {
      "text/html": [
       "<div>\n",
       "<style scoped>\n",
       "    .dataframe tbody tr th:only-of-type {\n",
       "        vertical-align: middle;\n",
       "    }\n",
       "\n",
       "    .dataframe tbody tr th {\n",
       "        vertical-align: top;\n",
       "    }\n",
       "\n",
       "    .dataframe thead th {\n",
       "        text-align: right;\n",
       "    }\n",
       "</style>\n",
       "<table border=\"1\" class=\"dataframe\">\n",
       "  <thead>\n",
       "    <tr style=\"text-align: right;\">\n",
       "      <th></th>\n",
       "      <th>Gender</th>\n",
       "      <th>EthnicGroup</th>\n",
       "      <th>ParentEduc</th>\n",
       "      <th>LunchType</th>\n",
       "      <th>TestPrep</th>\n",
       "      <th>ParentMaritalStatus</th>\n",
       "      <th>PracticeSport</th>\n",
       "      <th>IsFirstChild</th>\n",
       "      <th>NrSiblings</th>\n",
       "      <th>TransportMeans</th>\n",
       "      <th>WklyStudyHours</th>\n",
       "      <th>MathScore</th>\n",
       "      <th>ReadingScore</th>\n",
       "      <th>WritingScore</th>\n",
       "    </tr>\n",
       "  </thead>\n",
       "  <tbody>\n",
       "    <tr>\n",
       "      <th>0</th>\n",
       "      <td>female</td>\n",
       "      <td>NaN</td>\n",
       "      <td>bachelor's degree</td>\n",
       "      <td>standard</td>\n",
       "      <td>none</td>\n",
       "      <td>married</td>\n",
       "      <td>regularly</td>\n",
       "      <td>yes</td>\n",
       "      <td>3.0</td>\n",
       "      <td>school_bus</td>\n",
       "      <td>&lt; 5</td>\n",
       "      <td>71</td>\n",
       "      <td>71</td>\n",
       "      <td>74</td>\n",
       "    </tr>\n",
       "    <tr>\n",
       "      <th>1</th>\n",
       "      <td>female</td>\n",
       "      <td>group C</td>\n",
       "      <td>some college</td>\n",
       "      <td>standard</td>\n",
       "      <td>NaN</td>\n",
       "      <td>married</td>\n",
       "      <td>sometimes</td>\n",
       "      <td>yes</td>\n",
       "      <td>0.0</td>\n",
       "      <td>NaN</td>\n",
       "      <td>5 - 10</td>\n",
       "      <td>69</td>\n",
       "      <td>90</td>\n",
       "      <td>88</td>\n",
       "    </tr>\n",
       "    <tr>\n",
       "      <th>2</th>\n",
       "      <td>female</td>\n",
       "      <td>group B</td>\n",
       "      <td>master's degree</td>\n",
       "      <td>standard</td>\n",
       "      <td>none</td>\n",
       "      <td>single</td>\n",
       "      <td>sometimes</td>\n",
       "      <td>yes</td>\n",
       "      <td>4.0</td>\n",
       "      <td>school_bus</td>\n",
       "      <td>&lt; 5</td>\n",
       "      <td>87</td>\n",
       "      <td>93</td>\n",
       "      <td>91</td>\n",
       "    </tr>\n",
       "    <tr>\n",
       "      <th>3</th>\n",
       "      <td>male</td>\n",
       "      <td>group A</td>\n",
       "      <td>associate's degree</td>\n",
       "      <td>free/reduced</td>\n",
       "      <td>none</td>\n",
       "      <td>married</td>\n",
       "      <td>never</td>\n",
       "      <td>no</td>\n",
       "      <td>1.0</td>\n",
       "      <td>NaN</td>\n",
       "      <td>5 - 10</td>\n",
       "      <td>45</td>\n",
       "      <td>56</td>\n",
       "      <td>42</td>\n",
       "    </tr>\n",
       "    <tr>\n",
       "      <th>4</th>\n",
       "      <td>male</td>\n",
       "      <td>group C</td>\n",
       "      <td>some college</td>\n",
       "      <td>standard</td>\n",
       "      <td>none</td>\n",
       "      <td>married</td>\n",
       "      <td>sometimes</td>\n",
       "      <td>yes</td>\n",
       "      <td>0.0</td>\n",
       "      <td>school_bus</td>\n",
       "      <td>5 - 10</td>\n",
       "      <td>76</td>\n",
       "      <td>78</td>\n",
       "      <td>75</td>\n",
       "    </tr>\n",
       "  </tbody>\n",
       "</table>\n",
       "</div>"
      ],
      "text/plain": [
       "   Gender EthnicGroup          ParentEduc     LunchType TestPrep  \\\n",
       "0  female         NaN   bachelor's degree      standard     none   \n",
       "1  female     group C        some college      standard      NaN   \n",
       "2  female     group B     master's degree      standard     none   \n",
       "3    male     group A  associate's degree  free/reduced     none   \n",
       "4    male     group C        some college      standard     none   \n",
       "\n",
       "  ParentMaritalStatus PracticeSport IsFirstChild  NrSiblings TransportMeans  \\\n",
       "0             married     regularly          yes         3.0     school_bus   \n",
       "1             married     sometimes          yes         0.0            NaN   \n",
       "2              single     sometimes          yes         4.0     school_bus   \n",
       "3             married         never           no         1.0            NaN   \n",
       "4             married     sometimes          yes         0.0     school_bus   \n",
       "\n",
       "  WklyStudyHours  MathScore  ReadingScore  WritingScore  \n",
       "0            < 5         71            71            74  \n",
       "1         5 - 10         69            90            88  \n",
       "2            < 5         87            93            91  \n",
       "3         5 - 10         45            56            42  \n",
       "4         5 - 10         76            78            75  "
      ]
     },
     "execution_count": 14,
     "metadata": {},
     "output_type": "execute_result"
    }
   ],
   "source": [
    "df.head()\n"
   ]
  },
  {
   "cell_type": "raw",
   "id": "0beefbd9-98e8-405c-aee9-d19b385070df",
   "metadata": {},
   "source": [
    "#Change any column if there and mixed value (int+string)"
   ]
  },
  {
   "cell_type": "code",
   "execution_count": 1,
   "id": "814612cd-cf5c-45e9-bc22-08d3be65aa02",
   "metadata": {},
   "outputs": [
    {
     "ename": "NameError",
     "evalue": "name 'df' is not defined",
     "output_type": "error",
     "traceback": [
      "\u001b[1;31m---------------------------------------------------------------------------\u001b[0m",
      "\u001b[1;31mNameError\u001b[0m                                 Traceback (most recent call last)",
      "Cell \u001b[1;32mIn[1], line 1\u001b[0m\n\u001b[1;32m----> 1\u001b[0m df[\u001b[38;5;124m\"\u001b[39m\u001b[38;5;124mWklyStudyHours\u001b[39m\u001b[38;5;124m\"\u001b[39m]\u001b[38;5;241m=\u001b[39m \u001b[43mdf\u001b[49m[\u001b[38;5;124m\"\u001b[39m\u001b[38;5;124mWklyStudyHours\u001b[39m\u001b[38;5;124m\"\u001b[39m]\u001b[38;5;241m.\u001b[39mstr\u001b[38;5;241m.\u001b[39mreplace(\u001b[38;5;124m\"\u001b[39m\u001b[38;5;124m05-Oct\u001b[39m\u001b[38;5;124m\"\u001b[39m,\u001b[38;5;124m\"\u001b[39m\u001b[38;5;124m5-10\u001b[39m\u001b[38;5;124m\"\u001b[39m)\n",
      "\u001b[1;31mNameError\u001b[0m: name 'df' is not defined"
     ]
    }
   ],
   "source": [
    "#df[\"WklyStudyHours\"]= df[\"WklyStudyHours\"].str.replace(\"05-Oct\",\"5-10\")"
   ]
  },
  {
   "cell_type": "markdown",
   "id": "932fee89-9e4e-4e89-96ac-f260c65c11b5",
   "metadata": {},
   "source": [
    "# GENDER DISTRIBUTION ANALYSIS"
   ]
  },
  {
   "cell_type": "code",
   "execution_count": 23,
   "id": "8a7a4d87-59bb-4732-b18c-3d2e56de033c",
   "metadata": {},
   "outputs": [
    {
     "data": {
      "image/png": "[encoded data removed]",
      "text/plain": [
       "<Figure size 500x600 with 1 Axes>"
      ]
     },
     "metadata": {},
     "output_type": "display_data"
    }
   ],
   "source": [
    "plt.figure(figsize=(5,6))\n",
    "ax = sns.countplot(data = df, x = \"Gender\")\n",
    "ax.bar_label(ax.containers[0])\n",
    "plt.show()"
   ]
  },
  {
   "cell_type": "markdown",
   "id": "d607d892-c819-4987-88a1-cb04e3130bfd",
   "metadata": {},
   "source": [
    "# From The above chart we have analysed That:\n",
    "(THe number of females in the data is more than the number of males )\n"
   ]
  },
  {
   "cell_type": "code",
   "execution_count": null,
   "id": "0b098092-66ee-4440-9b5b-d432d6fd2421",
   "metadata": {},
   "outputs": [],
   "source": []
  }
 ],
 "metadata": {
  "kernelspec": {
   "display_name": "Python 3 (ipykernel)",
   "language": "python",
   "name": "python3"
  },
  "language_info": {
   "codemirror_mode": {
    "name": "ipython",
    "version": 3
   },
   "file_extension": ".py",
   "mimetype": "text/x-python",
   "name": "python",
   "nbconvert_exporter": "python",
   "pygments_lexer": "ipython3",
   "version": "3.10.18"
  }
 },
 "nbformat": 4,
 "nbformat_minor": 5
}
